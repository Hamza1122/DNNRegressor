{
  "nbformat": 4,
  "nbformat_minor": 0,
  "metadata": {
    "colab": {
      "name": "Untitled187.ipynb",
      "provenance": [],
      "authorship_tag": "ABX9TyN1nIk+sjMwdsMVXX6g11aB",
      "include_colab_link": true
    },
    "kernelspec": {
      "name": "python3",
      "display_name": "Python 3"
    }
  },
  "cells": [
    {
      "cell_type": "markdown",
      "metadata": {
        "id": "view-in-github",
        "colab_type": "text"
      },
      "source": [
        "<a href=\"https://colab.research.google.com/github/Hamza1122/DNNRegressor/blob/main/Untitled187.ipynb\" target=\"_parent\"><img src=\"https://colab.research.google.com/assets/colab-badge.svg\" alt=\"Open In Colab\"/></a>"
      ]
    },
    {
      "cell_type": "code",
      "metadata": {
        "colab": {
          "base_uri": "https://localhost:8080/"
        },
        "id": "1mfvubelZrAw",
        "outputId": "f1710204-ac36-4fcc-fb8f-6ec4c0fb094f"
      },
      "source": [
        "import numpy as np\r\n",
        "import pandas as pd\r\n",
        "from sklearn.preprocessing import MinMaxScaler\r\n",
        "import tensorflow as tf\r\n",
        "from sklearn.model_selection import train_test_split\r\n",
        "import tensorflow.compat.v1 as tf\r\n",
        "tf.disable_v2_behavior()\r\n",
        "from matplotlib import pyplot as plt"
      ],
      "execution_count": 7,
      "outputs": [
        {
          "output_type": "stream",
          "text": [
            "WARNING:tensorflow:From /usr/local/lib/python3.6/dist-packages/tensorflow/python/compat/v2_compat.py:96: disable_resource_variables (from tensorflow.python.ops.variable_scope) is deprecated and will be removed in a future version.\n",
            "Instructions for updating:\n",
            "non-resource variables are not supported in the long term\n"
          ],
          "name": "stdout"
        }
      ]
    },
    {
      "cell_type": "code",
      "metadata": {
        "colab": {
          "base_uri": "https://localhost:8080/",
          "height": 204
        },
        "id": "E9UxFCwsZrlD",
        "outputId": "32d60dda-b93a-4b72-ee79-d421db616331"
      },
      "source": [
        "data = pd.read_csv('data.csv')\r\n",
        "data.head()"
      ],
      "execution_count": 8,
      "outputs": [
        {
          "output_type": "execute_result",
          "data": {
            "text/html": [
              "<div>\n",
              "<style scoped>\n",
              "    .dataframe tbody tr th:only-of-type {\n",
              "        vertical-align: middle;\n",
              "    }\n",
              "\n",
              "    .dataframe tbody tr th {\n",
              "        vertical-align: top;\n",
              "    }\n",
              "\n",
              "    .dataframe thead th {\n",
              "        text-align: right;\n",
              "    }\n",
              "</style>\n",
              "<table border=\"1\" class=\"dataframe\">\n",
              "  <thead>\n",
              "    <tr style=\"text-align: right;\">\n",
              "      <th></th>\n",
              "      <th>type</th>\n",
              "      <th>QP</th>\n",
              "      <th>PLR</th>\n",
              "      <th>MBL</th>\n",
              "      <th>MOS</th>\n",
              "    </tr>\n",
              "  </thead>\n",
              "  <tbody>\n",
              "    <tr>\n",
              "      <th>0</th>\n",
              "      <td>1</td>\n",
              "      <td>16</td>\n",
              "      <td>0.1</td>\n",
              "      <td>1.0</td>\n",
              "      <td>4.694668</td>\n",
              "    </tr>\n",
              "    <tr>\n",
              "      <th>1</th>\n",
              "      <td>1</td>\n",
              "      <td>16</td>\n",
              "      <td>0.1</td>\n",
              "      <td>2.5</td>\n",
              "      <td>4.532094</td>\n",
              "    </tr>\n",
              "    <tr>\n",
              "      <th>2</th>\n",
              "      <td>1</td>\n",
              "      <td>16</td>\n",
              "      <td>0.1</td>\n",
              "      <td>5.0</td>\n",
              "      <td>4.341019</td>\n",
              "    </tr>\n",
              "    <tr>\n",
              "      <th>3</th>\n",
              "      <td>1</td>\n",
              "      <td>16</td>\n",
              "      <td>0.1</td>\n",
              "      <td>7.5</td>\n",
              "      <td>4.141729</td>\n",
              "    </tr>\n",
              "    <tr>\n",
              "      <th>4</th>\n",
              "      <td>1</td>\n",
              "      <td>16</td>\n",
              "      <td>1.0</td>\n",
              "      <td>1.0</td>\n",
              "      <td>4.497566</td>\n",
              "    </tr>\n",
              "  </tbody>\n",
              "</table>\n",
              "</div>"
            ],
            "text/plain": [
              "   type  QP  PLR  MBL       MOS\n",
              "0     1  16  0.1  1.0  4.694668\n",
              "1     1  16  0.1  2.5  4.532094\n",
              "2     1  16  0.1  5.0  4.341019\n",
              "3     1  16  0.1  7.5  4.141729\n",
              "4     1  16  1.0  1.0  4.497566"
            ]
          },
          "metadata": {
            "tags": []
          },
          "execution_count": 8
        }
      ]
    },
    {
      "cell_type": "code",
      "metadata": {
        "id": "dgKehAHGZssf"
      },
      "source": [
        "Y=data['MOS']\r\n",
        "X=data.drop(['MOS'],axis=1)"
      ],
      "execution_count": 9,
      "outputs": []
    },
    {
      "cell_type": "code",
      "metadata": {
        "id": "hFRxUCLrZu7E"
      },
      "source": [
        "X_train, X_test, y_train, y_test = train_test_split(X, Y , test_size=0.2, random_state = 4)"
      ],
      "execution_count": 10,
      "outputs": []
    },
    {
      "cell_type": "code",
      "metadata": {
        "id": "o2BAgGKPZwNG"
      },
      "source": [
        "scaler = MinMaxScaler()\r\n",
        "scaler.fit(X_train)\r\n",
        "X_train = pd.DataFrame(data=scaler.transform(X_train),columns = X_train.columns,index=X_train.index)\r\n",
        "X_test = pd.DataFrame(data=scaler.transform(X_test),columns = X_test.columns,index=X_test.index)"
      ],
      "execution_count": 11,
      "outputs": []
    },
    {
      "cell_type": "code",
      "metadata": {
        "id": "uzhXX8rMZxWG"
      },
      "source": [
        "x1 = tf.feature_column.numeric_column('type')\r\n",
        "x2 = tf.feature_column.numeric_column('QP')\r\n",
        "x3 = tf.feature_column.numeric_column('PLR')\r\n",
        "x4 = tf.feature_column.numeric_column('MBL')\r\n",
        "feat_cols = [x1,x2,x3,x4]"
      ],
      "execution_count": 12,
      "outputs": []
    },
    {
      "cell_type": "code",
      "metadata": {
        "colab": {
          "base_uri": "https://localhost:8080/"
        },
        "id": "QAwUE1w-Zyuf",
        "outputId": "bddfd67c-8e53-4df7-82d0-72b44fca54ad"
      },
      "source": [
        "input_func = tf.estimator.inputs.pandas_input_fn(x=X_train,y=y_train ,batch_size=10,num_epochs=1000,shuffle=True)"
      ],
      "execution_count": 13,
      "outputs": [
        {
          "output_type": "stream",
          "text": [
            "WARNING:tensorflow:From /usr/local/lib/python3.6/dist-packages/tensorflow/python/util/lazy_loader.py:63: The name tf.estimator.inputs is deprecated. Please use tf.compat.v1.estimator.inputs instead.\n",
            "\n"
          ],
          "name": "stdout"
        }
      ]
    },
    {
      "cell_type": "code",
      "metadata": {
        "id": "1y4JK2XtZ0CF"
      },
      "source": [
        "def wx_input_fn(X, y=None, num_epochs=None, shuffle=True, batch_size=400):\r\n",
        "    return tf.estimator.inputs.pandas_input_fn(x=X,\r\n",
        "                                               y=y,\r\n",
        "                                               num_epochs=num_epochs,\r\n",
        "                                               shuffle=shuffle,\r\n",
        "                                               batch_size=batch_size)"
      ],
      "execution_count": 14,
      "outputs": []
    },
    {
      "cell_type": "code",
      "metadata": {
        "id": "8gRw1vpQZ1LZ"
      },
      "source": [
        "from sklearn.metrics import mean_squared_error\r\n",
        "from sklearn.metrics import r2_score\r\n",
        "from sklearn.metrics import mean_absolute_error\r\n",
        "\r\n",
        "\r\n",
        "def truncate(number, digits) -> float:\r\n",
        "  stepper = 10.0 ** digits\r\n",
        "  return math.trunc(stepper * number) / stepper\r\n",
        "\r\n",
        "\r\n",
        "def build_model(optimizer):\r\n",
        "  model = tf.estimator.DNNRegressor(hidden_units=[60,60,60,60],feature_columns=feat_cols,optimizer=tf.train.AdamOptimizer(learning_rate=0.01),\r\n",
        "                                 activation_fn = tf.nn.relu)\r\n",
        "  \r\n",
        "  predict_input_func = tf.estimator.inputs.pandas_input_fn(\r\n",
        "      x=X_test,\r\n",
        "      batch_size=10,\r\n",
        "      num_epochs=1,\r\n",
        "      shuffle=False)\r\n",
        "  \r\n",
        "  evaluations = []\r\n",
        "  STEPS = 400\r\n",
        "  for i in range(100):\r\n",
        "    model.train(input_fn=wx_input_fn(X_train, y=y_train), steps=STEPS)\r\n",
        "    evaluations.append(model.evaluate(input_fn=wx_input_fn(X_test,\r\n",
        "                                                               y_test,\r\n",
        "                                                               num_epochs=1,\r\n",
        "                                                               shuffle=False)))\r\n",
        "    \r\n",
        "\r\n",
        "  pred_gen = model.predict(predict_input_func)\r\n",
        "  predictions = list(pred_gen)\r\n",
        "  final_preds = []\r\n",
        "  for pred in predictions:\r\n",
        "    final_preds.append(pred['predictions'])  \r\n",
        "\r\n",
        "  print(mean_squared_error(final_preds,y_test)**0.5)\r\n",
        "  print('R2 score:',r2_score(y_test,final_preds))   \r\n",
        "\r\n",
        "  print(mean_absolute_error(y_test,final_preds))\r\n",
        "  predictions = []\r\n",
        "  for i in final_preds:\r\n",
        "    predictions.append(i[0])\r\n",
        "\r\n",
        "  true_values = y_test.values.tolist()\r\n",
        "\r\n",
        "   # model predictions\r\n",
        "  print('prediction ---- true\\n')\r\n",
        "  for i in range(len(final_preds)):\r\n",
        "    print(\"%f ------- %f\" %(truncate(predictions[i],5), true_values[i]))"
      ],
      "execution_count": 18,
      "outputs": []
    },
    {
      "cell_type": "code",
      "metadata": {
        "id": "3r3PimQYa6FD"
      },
      "source": [
        ""
      ],
      "execution_count": null,
      "outputs": []
    }
  ]
}